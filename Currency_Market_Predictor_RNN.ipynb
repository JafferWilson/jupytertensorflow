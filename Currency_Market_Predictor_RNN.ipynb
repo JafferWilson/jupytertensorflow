{
 "cells": [
  {
   "cell_type": "markdown",
   "metadata": {},
   "source": [
    "# Currency Market Predictor - Recurrent Neural Netowork\n",
    "\n",
    "Predicting EURUSD market"
   ]
  },
  {
   "cell_type": "code",
   "execution_count": 561,
   "metadata": {},
   "outputs": [],
   "source": [
    "import tensorflow as tf\n",
    "import pandas as pd \n",
    "import numpy as np\n",
    "import matplotlib.pyplot as plt\n",
    "%matplotlib inline\n",
    "import plotly.plotly as py\n",
    "import plotly.graph_objs as go\n",
    "import plotly\n",
    "plotly.tools.set_credentials_file(username='jafferwilson', api_key='EkP7ePXHyQaUZxPIX2Zv')\n",
    "from sklearn import preprocessing\n",
    "from matplotlib.patches import Rectangle"
   ]
  },
  {
   "cell_type": "markdown",
   "metadata": {},
   "source": [
    "## Reading Training,Testing, and Forecast Datasets"
   ]
  },
  {
   "cell_type": "code",
   "execution_count": 562,
   "metadata": {},
   "outputs": [],
   "source": [
    "dataset_train = pd.read_csv('EURUSD_M1TechnicalIndicators.csv',usecols=[1,2,3,4,5,6,7,8,9,10,11,12,13])\n",
    "# dataset_train.head(10)"
   ]
  },
  {
   "cell_type": "code",
   "execution_count": 563,
   "metadata": {},
   "outputs": [
    {
     "data": {
      "text/html": [
       "<div>\n",
       "<style scoped>\n",
       "    .dataframe tbody tr th:only-of-type {\n",
       "        vertical-align: middle;\n",
       "    }\n",
       "\n",
       "    .dataframe tbody tr th {\n",
       "        vertical-align: top;\n",
       "    }\n",
       "\n",
       "    .dataframe thead th {\n",
       "        text-align: right;\n",
       "    }\n",
       "</style>\n",
       "<table border=\"1\" class=\"dataframe\">\n",
       "  <thead>\n",
       "    <tr style=\"text-align: right;\">\n",
       "      <th></th>\n",
       "      <th>open</th>\n",
       "      <th>high</th>\n",
       "      <th>low</th>\n",
       "      <th>close</th>\n",
       "      <th>closeTarget</th>\n",
       "      <th>k</th>\n",
       "      <th>d</th>\n",
       "      <th>atr</th>\n",
       "      <th>macdmain</th>\n",
       "      <th>macdsgnal</th>\n",
       "      <th>bbup</th>\n",
       "      <th>bbmid</th>\n",
       "      <th>bblow</th>\n",
       "    </tr>\n",
       "  </thead>\n",
       "  <tbody>\n",
       "    <tr>\n",
       "      <th>0</th>\n",
       "      <td>1.22161</td>\n",
       "      <td>1.22224</td>\n",
       "      <td>1.22154</td>\n",
       "      <td>1.22224</td>\n",
       "      <td>1.22165</td>\n",
       "      <td>39.444444</td>\n",
       "      <td>14.259259</td>\n",
       "      <td>0.000215</td>\n",
       "      <td>-0.000099</td>\n",
       "      <td>14.259259</td>\n",
       "      <td>1.223272</td>\n",
       "      <td>1.222352</td>\n",
       "      <td>1.221432</td>\n",
       "    </tr>\n",
       "    <tr>\n",
       "      <th>1</th>\n",
       "      <td>1.22179</td>\n",
       "      <td>1.22179</td>\n",
       "      <td>1.22165</td>\n",
       "      <td>1.22165</td>\n",
       "      <td>1.22159</td>\n",
       "      <td>3.333333</td>\n",
       "      <td>1.111111</td>\n",
       "      <td>0.000200</td>\n",
       "      <td>-0.000199</td>\n",
       "      <td>1.111111</td>\n",
       "      <td>1.223383</td>\n",
       "      <td>1.222399</td>\n",
       "      <td>1.221414</td>\n",
       "    </tr>\n",
       "    <tr>\n",
       "      <th>2</th>\n",
       "      <td>1.22183</td>\n",
       "      <td>1.22189</td>\n",
       "      <td>1.22159</td>\n",
       "      <td>1.22159</td>\n",
       "      <td>1.22184</td>\n",
       "      <td>0.000000</td>\n",
       "      <td>0.775194</td>\n",
       "      <td>0.000215</td>\n",
       "      <td>-0.000195</td>\n",
       "      <td>0.775194</td>\n",
       "      <td>1.223454</td>\n",
       "      <td>1.222475</td>\n",
       "      <td>1.221497</td>\n",
       "    </tr>\n",
       "    <tr>\n",
       "      <th>3</th>\n",
       "      <td>1.22198</td>\n",
       "      <td>1.22204</td>\n",
       "      <td>1.22162</td>\n",
       "      <td>1.22184</td>\n",
       "      <td>1.22200</td>\n",
       "      <td>0.000000</td>\n",
       "      <td>9.429040</td>\n",
       "      <td>0.000198</td>\n",
       "      <td>-0.000151</td>\n",
       "      <td>9.429040</td>\n",
       "      <td>1.223510</td>\n",
       "      <td>1.222560</td>\n",
       "      <td>1.221610</td>\n",
       "    </tr>\n",
       "    <tr>\n",
       "      <th>4</th>\n",
       "      <td>1.22203</td>\n",
       "      <td>1.22203</td>\n",
       "      <td>1.22199</td>\n",
       "      <td>1.22200</td>\n",
       "      <td>1.22205</td>\n",
       "      <td>2.325581</td>\n",
       "      <td>32.139663</td>\n",
       "      <td>0.000237</td>\n",
       "      <td>-0.000121</td>\n",
       "      <td>32.139663</td>\n",
       "      <td>1.223565</td>\n",
       "      <td>1.222630</td>\n",
       "      <td>1.221696</td>\n",
       "    </tr>\n",
       "    <tr>\n",
       "      <th>5</th>\n",
       "      <td>1.22227</td>\n",
       "      <td>1.22227</td>\n",
       "      <td>1.22189</td>\n",
       "      <td>1.22205</td>\n",
       "      <td>1.22228</td>\n",
       "      <td>25.961538</td>\n",
       "      <td>62.943416</td>\n",
       "      <td>0.000247</td>\n",
       "      <td>-0.000099</td>\n",
       "      <td>62.943416</td>\n",
       "      <td>1.223588</td>\n",
       "      <td>1.222683</td>\n",
       "      <td>1.221778</td>\n",
       "    </tr>\n",
       "    <tr>\n",
       "      <th>6</th>\n",
       "      <td>1.22250</td>\n",
       "      <td>1.22251</td>\n",
       "      <td>1.22212</td>\n",
       "      <td>1.22228</td>\n",
       "      <td>1.22249</td>\n",
       "      <td>68.131868</td>\n",
       "      <td>78.734015</td>\n",
       "      <td>0.000227</td>\n",
       "      <td>-0.000060</td>\n",
       "      <td>78.734015</td>\n",
       "      <td>1.223570</td>\n",
       "      <td>1.222713</td>\n",
       "      <td>1.221855</td>\n",
       "    </tr>\n",
       "    <tr>\n",
       "      <th>7</th>\n",
       "      <td>1.22252</td>\n",
       "      <td>1.22252</td>\n",
       "      <td>1.22249</td>\n",
       "      <td>1.22249</td>\n",
       "      <td>1.22253</td>\n",
       "      <td>94.736842</td>\n",
       "      <td>70.451253</td>\n",
       "      <td>0.000214</td>\n",
       "      <td>-0.000047</td>\n",
       "      <td>70.451253</td>\n",
       "      <td>1.223566</td>\n",
       "      <td>1.222730</td>\n",
       "      <td>1.221895</td>\n",
       "    </tr>\n",
       "    <tr>\n",
       "      <th>8</th>\n",
       "      <td>1.22232</td>\n",
       "      <td>1.22253</td>\n",
       "      <td>1.22232</td>\n",
       "      <td>1.22253</td>\n",
       "      <td>1.22231</td>\n",
       "      <td>73.333333</td>\n",
       "      <td>45.456667</td>\n",
       "      <td>0.000226</td>\n",
       "      <td>-0.000075</td>\n",
       "      <td>45.456667</td>\n",
       "      <td>1.223569</td>\n",
       "      <td>1.222741</td>\n",
       "      <td>1.221912</td>\n",
       "    </tr>\n",
       "    <tr>\n",
       "      <th>9</th>\n",
       "      <td>1.22225</td>\n",
       "      <td>1.22233</td>\n",
       "      <td>1.22218</td>\n",
       "      <td>1.22231</td>\n",
       "      <td>1.22225</td>\n",
       "      <td>43.283582</td>\n",
       "      <td>23.110125</td>\n",
       "      <td>0.000219</td>\n",
       "      <td>-0.000130</td>\n",
       "      <td>23.110125</td>\n",
       "      <td>1.223570</td>\n",
       "      <td>1.222746</td>\n",
       "      <td>1.221923</td>\n",
       "    </tr>\n",
       "  </tbody>\n",
       "</table>\n",
       "</div>"
      ],
      "text/plain": [
       "      open     high      low    close  closeTarget          k          d  \\\n",
       "0  1.22161  1.22224  1.22154  1.22224      1.22165  39.444444  14.259259   \n",
       "1  1.22179  1.22179  1.22165  1.22165      1.22159   3.333333   1.111111   \n",
       "2  1.22183  1.22189  1.22159  1.22159      1.22184   0.000000   0.775194   \n",
       "3  1.22198  1.22204  1.22162  1.22184      1.22200   0.000000   9.429040   \n",
       "4  1.22203  1.22203  1.22199  1.22200      1.22205   2.325581  32.139663   \n",
       "5  1.22227  1.22227  1.22189  1.22205      1.22228  25.961538  62.943416   \n",
       "6  1.22250  1.22251  1.22212  1.22228      1.22249  68.131868  78.734015   \n",
       "7  1.22252  1.22252  1.22249  1.22249      1.22253  94.736842  70.451253   \n",
       "8  1.22232  1.22253  1.22232  1.22253      1.22231  73.333333  45.456667   \n",
       "9  1.22225  1.22233  1.22218  1.22231      1.22225  43.283582  23.110125   \n",
       "\n",
       "        atr  macdmain  macdsgnal      bbup     bbmid     bblow  \n",
       "0  0.000215 -0.000099  14.259259  1.223272  1.222352  1.221432  \n",
       "1  0.000200 -0.000199   1.111111  1.223383  1.222399  1.221414  \n",
       "2  0.000215 -0.000195   0.775194  1.223454  1.222475  1.221497  \n",
       "3  0.000198 -0.000151   9.429040  1.223510  1.222560  1.221610  \n",
       "4  0.000237 -0.000121  32.139663  1.223565  1.222630  1.221696  \n",
       "5  0.000247 -0.000099  62.943416  1.223588  1.222683  1.221778  \n",
       "6  0.000227 -0.000060  78.734015  1.223570  1.222713  1.221855  \n",
       "7  0.000214 -0.000047  70.451253  1.223566  1.222730  1.221895  \n",
       "8  0.000226 -0.000075  45.456667  1.223569  1.222741  1.221912  \n",
       "9  0.000219 -0.000130  23.110125  1.223570  1.222746  1.221923  "
      ]
     },
     "execution_count": 563,
     "metadata": {},
     "output_type": "execute_result"
    }
   ],
   "source": [
    "dataset_test = pd.read_csv('Test_EURUSD_M1TechnicalIndicators.csv',usecols=[1,2,3,4,5,6,7,8,9,10,11,12,13],nrows=50)\n",
    "dataset_test.head(10)"
   ]
  },
  {
   "cell_type": "code",
   "execution_count": 564,
   "metadata": {},
   "outputs": [
    {
     "data": {
      "text/html": [
       "<div>\n",
       "<style scoped>\n",
       "    .dataframe tbody tr th:only-of-type {\n",
       "        vertical-align: middle;\n",
       "    }\n",
       "\n",
       "    .dataframe tbody tr th {\n",
       "        vertical-align: top;\n",
       "    }\n",
       "\n",
       "    .dataframe thead th {\n",
       "        text-align: right;\n",
       "    }\n",
       "</style>\n",
       "<table border=\"1\" class=\"dataframe\">\n",
       "  <thead>\n",
       "    <tr style=\"text-align: right;\">\n",
       "      <th></th>\n",
       "      <th>open</th>\n",
       "      <th>high</th>\n",
       "      <th>low</th>\n",
       "      <th>close</th>\n",
       "      <th>k</th>\n",
       "      <th>d</th>\n",
       "      <th>atr</th>\n",
       "      <th>macdmain</th>\n",
       "      <th>macdsgnal</th>\n",
       "      <th>bbup</th>\n",
       "      <th>bbmid</th>\n",
       "      <th>bblow</th>\n",
       "    </tr>\n",
       "  </thead>\n",
       "  <tbody>\n",
       "    <tr>\n",
       "      <th>0</th>\n",
       "      <td>1.17111</td>\n",
       "      <td>1.17112</td>\n",
       "      <td>1.17107</td>\n",
       "      <td>1.17108</td>\n",
       "      <td>8.333333</td>\n",
       "      <td>7.407407</td>\n",
       "      <td>0.000056</td>\n",
       "      <td>-0.000008</td>\n",
       "      <td>7.407407</td>\n",
       "      <td>1.171204</td>\n",
       "      <td>1.171088</td>\n",
       "      <td>1.170972</td>\n",
       "    </tr>\n",
       "    <tr>\n",
       "      <th>1</th>\n",
       "      <td>1.17094</td>\n",
       "      <td>1.17097</td>\n",
       "      <td>1.17094</td>\n",
       "      <td>1.17097</td>\n",
       "      <td>0.000000</td>\n",
       "      <td>5.555556</td>\n",
       "      <td>0.000056</td>\n",
       "      <td>-0.000027</td>\n",
       "      <td>5.555556</td>\n",
       "      <td>1.171207</td>\n",
       "      <td>1.171081</td>\n",
       "      <td>1.170955</td>\n",
       "    </tr>\n",
       "    <tr>\n",
       "      <th>2</th>\n",
       "      <td>1.17097</td>\n",
       "      <td>1.17098</td>\n",
       "      <td>1.17097</td>\n",
       "      <td>1.17098</td>\n",
       "      <td>2.941176</td>\n",
       "      <td>3.758170</td>\n",
       "      <td>0.000055</td>\n",
       "      <td>-0.000034</td>\n",
       "      <td>3.758170</td>\n",
       "      <td>1.171210</td>\n",
       "      <td>1.171080</td>\n",
       "      <td>1.170949</td>\n",
       "    </tr>\n",
       "    <tr>\n",
       "      <th>3</th>\n",
       "      <td>1.17098</td>\n",
       "      <td>1.17137</td>\n",
       "      <td>1.17098</td>\n",
       "      <td>1.17134</td>\n",
       "      <td>56.716418</td>\n",
       "      <td>19.885865</td>\n",
       "      <td>0.000082</td>\n",
       "      <td>0.000018</td>\n",
       "      <td>19.885865</td>\n",
       "      <td>1.171260</td>\n",
       "      <td>1.171099</td>\n",
       "      <td>1.170937</td>\n",
       "    </tr>\n",
       "    <tr>\n",
       "      <th>4</th>\n",
       "      <td>1.17133</td>\n",
       "      <td>1.17151</td>\n",
       "      <td>1.17105</td>\n",
       "      <td>1.17140</td>\n",
       "      <td>85.263158</td>\n",
       "      <td>48.306917</td>\n",
       "      <td>0.000103</td>\n",
       "      <td>0.000055</td>\n",
       "      <td>48.306917</td>\n",
       "      <td>1.171321</td>\n",
       "      <td>1.171118</td>\n",
       "      <td>1.170916</td>\n",
       "    </tr>\n",
       "    <tr>\n",
       "      <th>5</th>\n",
       "      <td>1.17142</td>\n",
       "      <td>1.17142</td>\n",
       "      <td>1.17105</td>\n",
       "      <td>1.17106</td>\n",
       "      <td>72.357724</td>\n",
       "      <td>71.445766</td>\n",
       "      <td>0.000124</td>\n",
       "      <td>0.000020</td>\n",
       "      <td>71.445766</td>\n",
       "      <td>1.171320</td>\n",
       "      <td>1.171119</td>\n",
       "      <td>1.170918</td>\n",
       "    </tr>\n",
       "    <tr>\n",
       "      <th>6</th>\n",
       "      <td>1.17106</td>\n",
       "      <td>1.17150</td>\n",
       "      <td>1.17106</td>\n",
       "      <td>1.17143</td>\n",
       "      <td>74.045802</td>\n",
       "      <td>77.222228</td>\n",
       "      <td>0.000151</td>\n",
       "      <td>0.000056</td>\n",
       "      <td>77.222228</td>\n",
       "      <td>1.171378</td>\n",
       "      <td>1.171137</td>\n",
       "      <td>1.170897</td>\n",
       "    </tr>\n",
       "    <tr>\n",
       "      <th>7</th>\n",
       "      <td>1.17143</td>\n",
       "      <td>1.17144</td>\n",
       "      <td>1.17112</td>\n",
       "      <td>1.17116</td>\n",
       "      <td>51.200000</td>\n",
       "      <td>65.867842</td>\n",
       "      <td>0.000174</td>\n",
       "      <td>0.000031</td>\n",
       "      <td>65.867842</td>\n",
       "      <td>1.171381</td>\n",
       "      <td>1.171142</td>\n",
       "      <td>1.170904</td>\n",
       "    </tr>\n",
       "    <tr>\n",
       "      <th>8</th>\n",
       "      <td>1.17120</td>\n",
       "      <td>1.17136</td>\n",
       "      <td>1.17107</td>\n",
       "      <td>1.17124</td>\n",
       "      <td>61.344538</td>\n",
       "      <td>62.196780</td>\n",
       "      <td>0.000189</td>\n",
       "      <td>0.000028</td>\n",
       "      <td>62.196780</td>\n",
       "      <td>1.171390</td>\n",
       "      <td>1.171151</td>\n",
       "      <td>1.170912</td>\n",
       "    </tr>\n",
       "    <tr>\n",
       "      <th>9</th>\n",
       "      <td>1.17124</td>\n",
       "      <td>1.17131</td>\n",
       "      <td>1.17124</td>\n",
       "      <td>1.17128</td>\n",
       "      <td>45.045045</td>\n",
       "      <td>52.529861</td>\n",
       "      <td>0.000191</td>\n",
       "      <td>0.000031</td>\n",
       "      <td>52.529861</td>\n",
       "      <td>1.171404</td>\n",
       "      <td>1.171161</td>\n",
       "      <td>1.170919</td>\n",
       "    </tr>\n",
       "  </tbody>\n",
       "</table>\n",
       "</div>"
      ],
      "text/plain": [
       "      open     high      low    close          k          d       atr  \\\n",
       "0  1.17111  1.17112  1.17107  1.17108   8.333333   7.407407  0.000056   \n",
       "1  1.17094  1.17097  1.17094  1.17097   0.000000   5.555556  0.000056   \n",
       "2  1.17097  1.17098  1.17097  1.17098   2.941176   3.758170  0.000055   \n",
       "3  1.17098  1.17137  1.17098  1.17134  56.716418  19.885865  0.000082   \n",
       "4  1.17133  1.17151  1.17105  1.17140  85.263158  48.306917  0.000103   \n",
       "5  1.17142  1.17142  1.17105  1.17106  72.357724  71.445766  0.000124   \n",
       "6  1.17106  1.17150  1.17106  1.17143  74.045802  77.222228  0.000151   \n",
       "7  1.17143  1.17144  1.17112  1.17116  51.200000  65.867842  0.000174   \n",
       "8  1.17120  1.17136  1.17107  1.17124  61.344538  62.196780  0.000189   \n",
       "9  1.17124  1.17131  1.17124  1.17128  45.045045  52.529861  0.000191   \n",
       "\n",
       "   macdmain  macdsgnal      bbup     bbmid     bblow  \n",
       "0 -0.000008   7.407407  1.171204  1.171088  1.170972  \n",
       "1 -0.000027   5.555556  1.171207  1.171081  1.170955  \n",
       "2 -0.000034   3.758170  1.171210  1.171080  1.170949  \n",
       "3  0.000018  19.885865  1.171260  1.171099  1.170937  \n",
       "4  0.000055  48.306917  1.171321  1.171118  1.170916  \n",
       "5  0.000020  71.445766  1.171320  1.171119  1.170918  \n",
       "6  0.000056  77.222228  1.171378  1.171137  1.170897  \n",
       "7  0.000031  65.867842  1.171381  1.171142  1.170904  \n",
       "8  0.000028  62.196780  1.171390  1.171151  1.170912  \n",
       "9  0.000031  52.529861  1.171404  1.171161  1.170919  "
      ]
     },
     "execution_count": 564,
     "metadata": {},
     "output_type": "execute_result"
    }
   ],
   "source": [
    "dataset_forecast = pd.read_csv('forecast.csv',usecols=[1,2,3,4,5,6,7,8,9,10,11,12],encoding='utf-16',sep='\\t',nrows=50)\n",
    "dataset_forecast.head(10)"
   ]
  },
  {
   "cell_type": "markdown",
   "metadata": {},
   "source": [
    "# Formulating or scaling the Trainging datasets"
   ]
  },
  {
   "cell_type": "code",
   "execution_count": 565,
   "metadata": {},
   "outputs": [],
   "source": [
    "train  = dataset_train.filter(['open','high','low','close','closeTarget',\"k\",\"d\",\"atr\",\"macdmain\",\"macdsgnal\",\"bbup\",\"bbmid\",\"bblow\"], axis=1)\n",
    "x = train.values #returns a numpy array\n",
    "\n",
    "min_max_scaler = preprocessing.MinMaxScaler()\n",
    "x_scaled = min_max_scaler.fit_transform(x)\n",
    "datasetTrain = pd.DataFrame(x_scaled)\n",
    "datasetTrain.columns = ['open','high','low','close','closeTarget',\"k\",\"d\",\"atr\",\"macdmain\",\"macdsgnal\",\"bbup\",\"bbmid\",\"bblow\"]\n",
    "# datasetTrain.head(10) "
   ]
  },
  {
   "cell_type": "markdown",
   "metadata": {},
   "source": [
    "# Formulating or scaling the Testing datasets"
   ]
  },
  {
   "cell_type": "code",
   "execution_count": 566,
   "metadata": {},
   "outputs": [
    {
     "data": {
      "text/html": [
       "<div>\n",
       "<style scoped>\n",
       "    .dataframe tbody tr th:only-of-type {\n",
       "        vertical-align: middle;\n",
       "    }\n",
       "\n",
       "    .dataframe tbody tr th {\n",
       "        vertical-align: top;\n",
       "    }\n",
       "\n",
       "    .dataframe thead th {\n",
       "        text-align: right;\n",
       "    }\n",
       "</style>\n",
       "<table border=\"1\" class=\"dataframe\">\n",
       "  <thead>\n",
       "    <tr style=\"text-align: right;\">\n",
       "      <th></th>\n",
       "      <th>open</th>\n",
       "      <th>high</th>\n",
       "      <th>low</th>\n",
       "      <th>close</th>\n",
       "      <th>closeTarget</th>\n",
       "      <th>k</th>\n",
       "      <th>d</th>\n",
       "      <th>atr</th>\n",
       "      <th>macdmain</th>\n",
       "      <th>macdsgnal</th>\n",
       "      <th>bbup</th>\n",
       "      <th>bbmid</th>\n",
       "      <th>bblow</th>\n",
       "    </tr>\n",
       "  </thead>\n",
       "  <tbody>\n",
       "    <tr>\n",
       "      <th>0</th>\n",
       "      <td>0.022472</td>\n",
       "      <td>0.321429</td>\n",
       "      <td>0.028571</td>\n",
       "      <td>0.370787</td>\n",
       "      <td>0.039326</td>\n",
       "      <td>0.394444</td>\n",
       "      <td>0.135894</td>\n",
       "      <td>0.638298</td>\n",
       "      <td>0.220484</td>\n",
       "      <td>0.135894</td>\n",
       "      <td>0.645998</td>\n",
       "      <td>0.456451</td>\n",
       "      <td>0.174702</td>\n",
       "    </tr>\n",
       "    <tr>\n",
       "      <th>1</th>\n",
       "      <td>0.123596</td>\n",
       "      <td>0.053571</td>\n",
       "      <td>0.091429</td>\n",
       "      <td>0.039326</td>\n",
       "      <td>0.005618</td>\n",
       "      <td>0.033333</td>\n",
       "      <td>0.003385</td>\n",
       "      <td>0.548936</td>\n",
       "      <td>0.000000</td>\n",
       "      <td>0.003385</td>\n",
       "      <td>0.724737</td>\n",
       "      <td>0.517354</td>\n",
       "      <td>0.147918</td>\n",
       "    </tr>\n",
       "    <tr>\n",
       "      <th>2</th>\n",
       "      <td>0.146067</td>\n",
       "      <td>0.113095</td>\n",
       "      <td>0.057143</td>\n",
       "      <td>0.005618</td>\n",
       "      <td>0.146067</td>\n",
       "      <td>0.000000</td>\n",
       "      <td>0.000000</td>\n",
       "      <td>0.638298</td>\n",
       "      <td>0.007640</td>\n",
       "      <td>0.000000</td>\n",
       "      <td>0.775600</td>\n",
       "      <td>0.618206</td>\n",
       "      <td>0.270844</td>\n",
       "    </tr>\n",
       "    <tr>\n",
       "      <th>3</th>\n",
       "      <td>0.230337</td>\n",
       "      <td>0.202381</td>\n",
       "      <td>0.074286</td>\n",
       "      <td>0.146067</td>\n",
       "      <td>0.235955</td>\n",
       "      <td>0.000000</td>\n",
       "      <td>0.087215</td>\n",
       "      <td>0.536170</td>\n",
       "      <td>0.106609</td>\n",
       "      <td>0.087215</td>\n",
       "      <td>0.814985</td>\n",
       "      <td>0.728880</td>\n",
       "      <td>0.440311</td>\n",
       "    </tr>\n",
       "    <tr>\n",
       "      <th>4</th>\n",
       "      <td>0.258427</td>\n",
       "      <td>0.196429</td>\n",
       "      <td>0.285714</td>\n",
       "      <td>0.235955</td>\n",
       "      <td>0.264045</td>\n",
       "      <td>0.023256</td>\n",
       "      <td>0.316095</td>\n",
       "      <td>0.770213</td>\n",
       "      <td>0.171310</td>\n",
       "      <td>0.316095</td>\n",
       "      <td>0.854347</td>\n",
       "      <td>0.821218</td>\n",
       "      <td>0.568022</td>\n",
       "    </tr>\n",
       "    <tr>\n",
       "      <th>5</th>\n",
       "      <td>0.393258</td>\n",
       "      <td>0.339286</td>\n",
       "      <td>0.228571</td>\n",
       "      <td>0.264045</td>\n",
       "      <td>0.393258</td>\n",
       "      <td>0.259615</td>\n",
       "      <td>0.626539</td>\n",
       "      <td>0.829787</td>\n",
       "      <td>0.221364</td>\n",
       "      <td>0.626539</td>\n",
       "      <td>0.870255</td>\n",
       "      <td>0.889980</td>\n",
       "      <td>0.691323</td>\n",
       "    </tr>\n",
       "    <tr>\n",
       "      <th>6</th>\n",
       "      <td>0.522472</td>\n",
       "      <td>0.482143</td>\n",
       "      <td>0.360000</td>\n",
       "      <td>0.393258</td>\n",
       "      <td>0.511236</td>\n",
       "      <td>0.681319</td>\n",
       "      <td>0.785679</td>\n",
       "      <td>0.710638</td>\n",
       "      <td>0.306674</td>\n",
       "      <td>0.785679</td>\n",
       "      <td>0.857656</td>\n",
       "      <td>0.928618</td>\n",
       "      <td>0.805912</td>\n",
       "    </tr>\n",
       "    <tr>\n",
       "      <th>7</th>\n",
       "      <td>0.533708</td>\n",
       "      <td>0.488095</td>\n",
       "      <td>0.571429</td>\n",
       "      <td>0.511236</td>\n",
       "      <td>0.533708</td>\n",
       "      <td>0.947368</td>\n",
       "      <td>0.702204</td>\n",
       "      <td>0.634043</td>\n",
       "      <td>0.336408</td>\n",
       "      <td>0.702204</td>\n",
       "      <td>0.854639</td>\n",
       "      <td>0.952194</td>\n",
       "      <td>0.866006</td>\n",
       "    </tr>\n",
       "    <tr>\n",
       "      <th>8</th>\n",
       "      <td>0.421348</td>\n",
       "      <td>0.494048</td>\n",
       "      <td>0.474286</td>\n",
       "      <td>0.533708</td>\n",
       "      <td>0.410112</td>\n",
       "      <td>0.733333</td>\n",
       "      <td>0.450305</td>\n",
       "      <td>0.706383</td>\n",
       "      <td>0.273252</td>\n",
       "      <td>0.450305</td>\n",
       "      <td>0.856769</td>\n",
       "      <td>0.965291</td>\n",
       "      <td>0.891385</td>\n",
       "    </tr>\n",
       "    <tr>\n",
       "      <th>9</th>\n",
       "      <td>0.382022</td>\n",
       "      <td>0.375000</td>\n",
       "      <td>0.394286</td>\n",
       "      <td>0.410112</td>\n",
       "      <td>0.376404</td>\n",
       "      <td>0.432836</td>\n",
       "      <td>0.225094</td>\n",
       "      <td>0.659574</td>\n",
       "      <td>0.151398</td>\n",
       "      <td>0.225094</td>\n",
       "      <td>0.857861</td>\n",
       "      <td>0.973150</td>\n",
       "      <td>0.907003</td>\n",
       "    </tr>\n",
       "  </tbody>\n",
       "</table>\n",
       "</div>"
      ],
      "text/plain": [
       "       open      high       low     close  closeTarget         k         d  \\\n",
       "0  0.022472  0.321429  0.028571  0.370787     0.039326  0.394444  0.135894   \n",
       "1  0.123596  0.053571  0.091429  0.039326     0.005618  0.033333  0.003385   \n",
       "2  0.146067  0.113095  0.057143  0.005618     0.146067  0.000000  0.000000   \n",
       "3  0.230337  0.202381  0.074286  0.146067     0.235955  0.000000  0.087215   \n",
       "4  0.258427  0.196429  0.285714  0.235955     0.264045  0.023256  0.316095   \n",
       "5  0.393258  0.339286  0.228571  0.264045     0.393258  0.259615  0.626539   \n",
       "6  0.522472  0.482143  0.360000  0.393258     0.511236  0.681319  0.785679   \n",
       "7  0.533708  0.488095  0.571429  0.511236     0.533708  0.947368  0.702204   \n",
       "8  0.421348  0.494048  0.474286  0.533708     0.410112  0.733333  0.450305   \n",
       "9  0.382022  0.375000  0.394286  0.410112     0.376404  0.432836  0.225094   \n",
       "\n",
       "        atr  macdmain  macdsgnal      bbup     bbmid     bblow  \n",
       "0  0.638298  0.220484   0.135894  0.645998  0.456451  0.174702  \n",
       "1  0.548936  0.000000   0.003385  0.724737  0.517354  0.147918  \n",
       "2  0.638298  0.007640   0.000000  0.775600  0.618206  0.270844  \n",
       "3  0.536170  0.106609   0.087215  0.814985  0.728880  0.440311  \n",
       "4  0.770213  0.171310   0.316095  0.854347  0.821218  0.568022  \n",
       "5  0.829787  0.221364   0.626539  0.870255  0.889980  0.691323  \n",
       "6  0.710638  0.306674   0.785679  0.857656  0.928618  0.805912  \n",
       "7  0.634043  0.336408   0.702204  0.854639  0.952194  0.866006  \n",
       "8  0.706383  0.273252   0.450305  0.856769  0.965291  0.891385  \n",
       "9  0.659574  0.151398   0.225094  0.857861  0.973150  0.907003  "
      ]
     },
     "execution_count": 566,
     "metadata": {},
     "output_type": "execute_result"
    }
   ],
   "source": [
    "test = dataset_test.filter(['open','high','low','close','closeTarget',\"k\",\"d\",\"atr\",\"macdmain\",\"macdsgnal\",\"bbup\",\"bbmid\",\"bblow\"], axis=1)\n",
    "x = test.values #returns a numpy array\n",
    "min_max_scaler = preprocessing.MinMaxScaler()\n",
    "x_scaled = min_max_scaler.fit_transform(x)\n",
    "datasetTest = pd.DataFrame(x_scaled)\n",
    "datasetTest.columns = ['open','high','low','close','closeTarget',\"k\",\"d\",\"atr\",\"macdmain\",\"macdsgnal\",\"bbup\",\"bbmid\",\"bblow\"]\n",
    "# datasetTest['openshifted'] = datasetTest.open.shift(-1)\n",
    "datasetTest.head(10)"
   ]
  },
  {
   "cell_type": "markdown",
   "metadata": {},
   "source": [
    "# Formulating or scaling the Forecasting datasets"
   ]
  },
  {
   "cell_type": "code",
   "execution_count": 567,
   "metadata": {},
   "outputs": [],
   "source": [
    "dataset_forecast['closeTarget'] = 0\n",
    "forecast = dataset_forecast.filter(['open','high','low','close','closeTarget',\"k\",\"d\",\"atr\",\"macdmain\",\"macdsgnal\",\"bbup\",\"bbmid\",\"bblow\"], axis=1)\n",
    "x = forecast.values #returns a numpy array\n",
    "min_max_scaler = preprocessing.MinMaxScaler()\n",
    "x_scaled = min_max_scaler.fit_transform(x)\n",
    "datasetforecast = pd.DataFrame(x_scaled)\n",
    "dataset_forecast.closeTarget = 0\n",
    "datasetforecast.columns = ['open','high','low','close',\"k\",\"d\",\"atr\",\"macdmain\",\"macdsgnal\",\"bbup\",\"bbmid\",\"bblow\",'closeTarget']\n",
    "datasetforecast.fillna(0)\n",
    "datasetforecast.closeTarget[:] = 0\n",
    "# datasetforecast.head(10)"
   ]
  },
  {
   "cell_type": "markdown",
   "metadata": {},
   "source": [
    "# Functions Needed in this process"
   ]
  },
  {
   "cell_type": "code",
   "execution_count": 568,
   "metadata": {},
   "outputs": [],
   "source": [
    "# Draws rectangle separated\n",
    "def draw_rects(ax, quotes,colordraw, width=5., height=1., yloc=0., alpha=1.0):\n",
    "\n",
    "    OFFSET = 0#width/2.0\n",
    "    patches = []\n",
    "    count =0\n",
    "    for q in range(quotes):\n",
    "        rect = Rectangle(\n",
    "            xy=(count+OFFSET, yloc),\n",
    "            width=width,\n",
    "            height=height,\n",
    "            facecolor=colordraw[count],\n",
    "            edgecolor=colordraw[count],\n",
    "        )\n",
    "        count += 1\n",
    "        OFFSET += 9\n",
    "        rect.set_alpha(alpha)\n",
    "        patches.append(rect)\n",
    "        ax.add_patch(rect)\n",
    "\n",
    "    ax.autoscale_view()\n",
    "\n",
    "    return patches"
   ]
  },
  {
   "cell_type": "code",
   "execution_count": 569,
   "metadata": {},
   "outputs": [],
   "source": [
    "#returns the color of the candle which is predicted or forecasted by the model checkpoint\n",
    "def GetPredictedColor(test_pred_list):\n",
    "    colorpredicted = []\n",
    "    for index in range(len(test_pred_list)-1):\n",
    "        if test_pred_list[index+1] > test_pred_list[index]: colorpredicted.append('g')\n",
    "        if test_pred_list[index+1] < test_pred_list[index]: colorpredicted.append('r')\n",
    "        if test_pred_list[index+1] == test_pred_list[index]: colorpredicted.append('k')\n",
    "    if(colorpredicted[0] =='r'): colorpredicted.insert(0,'g')\n",
    "    if(colorpredicted[0] =='g'): colorpredicted.insert(0,'r')\n",
    "    if(colorpredicted[0] =='k'): colorpredicted.insert(0,'k')\n",
    "    print(len(colorpredicted))\n",
    "    return colorpredicted"
   ]
  },
  {
   "cell_type": "code",
   "execution_count": 570,
   "metadata": {},
   "outputs": [],
   "source": [
    "def PlotmePercent(match,unmatch):\n",
    "    labels = 'Unmatched Output Forcast','Matched Output Forcast'\n",
    "    sizes = [match,unmatch]\n",
    "    colors = ['silver', 'gold']\n",
    "    explode = (0.1, 0,)  # explode 1st slice\n",
    "\n",
    "    # Plot\n",
    "    plt.pie(sizes, explode=explode, labels=labels, colors=colors,\n",
    "            autopct='%1.1f%%', shadow=True, startangle=140)\n",
    "\n",
    "    plt.axis('equal')\n",
    "    plt.show()"
   ]
  },
  {
   "cell_type": "code",
   "execution_count": 571,
   "metadata": {},
   "outputs": [],
   "source": [
    "def PlotmeGraphwithBars(Bardataset,original_dataset,model_output,model_label):\n",
    "    fig, ax = plt.subplots(1,1)\n",
    "\n",
    "    # Instead of set_figwidth(30)\n",
    "    fig.set_size_inches(30, 10, forward=True)\n",
    "    # quotes = np.genfromtxt(\"./out.csv\", skip_header=1, delimiter=',')\n",
    "    p1 = draw_rects(ax, Bardataset.color_original.count(),colordraw=Bardataset.color_original, yloc=4)\n",
    "    # print(xTrain[:10])\n",
    "    p2 = draw_rects(ax, Bardataset.color_forecasted.count(),colordraw=Bardataset.color_forecasted, yloc=1)\n",
    "    labels = [item.get_text() for item in ax.get_yticklabels()]\n",
    "    labels[2] = model_label\n",
    "    labels[8] = 'Real'\n",
    "    ax.set_yticklabels(labels)\n",
    "    plt.figure(figsize=(21,7))\n",
    "    plt.plot(original_dataset.close.shift(-1),label='Price',color='blue',marker='^')\n",
    "    plt.plot(model_output,label=model_label,color='red',marker='v')\n",
    "    plt.title('Price vs '+model_label)\n",
    "    plt.legend(loc='upper left')\n",
    "    plt.show()"
   ]
  },
  {
   "cell_type": "markdown",
   "metadata": {},
   "source": [
    "## Hyperparams"
   ]
  },
  {
   "cell_type": "code",
   "execution_count": 572,
   "metadata": {},
   "outputs": [
    {
     "name": "stdout",
     "output_type": "stream",
     "text": [
      "The total series length is: 30203\n",
      "The current configuration gives us 10067 batches of 1 observations each one looking 3 steps in the past\n"
     ]
    }
   ],
   "source": [
    "tf.reset_default_graph()\n",
    "num_epochs = 5000\n",
    "\n",
    "batch_size = 1\n",
    "\n",
    "total_series_length = len(dataset_train.index)\n",
    "\n",
    "truncated_backprop_length = 3 #The size of the sequence\n",
    "\n",
    "state_size = 12 #The number of neurons\n",
    "\n",
    "num_features = 12#9#4\n",
    "num_classes = 1 #[1,0]\n",
    "\n",
    "num_batches = total_series_length//batch_size//truncated_backprop_length\n",
    "\n",
    "min_test_size = 100\n",
    "\n",
    "print('The total series length is: %d' %total_series_length)\n",
    "print('The current configuration gives us %d batches of %d observations each one looking %d steps in the past' \n",
    "      %(num_batches,batch_size,truncated_backprop_length))"
   ]
  },
  {
   "cell_type": "markdown",
   "metadata": {},
   "source": [
    "## Train-Test split"
   ]
  },
  {
   "cell_type": "code",
   "execution_count": 573,
   "metadata": {},
   "outputs": [],
   "source": [
    "# datasetTrain = datasetNorm[dataset.index < num_batches*batch_size*truncated_backprop_length]\n",
    "\n",
    "\n",
    "# for i in range(min_test_size,len(datasetNorm.index)):\n",
    "    \n",
    "#     if(i % truncated_backprop_length*batch_size == 0):\n",
    "#         test_first_idx = len(datasetNorm.index)-i\n",
    "#         break\n",
    "\n",
    "# datasetTest =  datasetNorm[dataset.index >= test_first_idx]"
   ]
  },
  {
   "cell_type": "code",
   "execution_count": 574,
   "metadata": {},
   "outputs": [],
   "source": [
    "# datasetTrain.head(2)"
   ]
  },
  {
   "cell_type": "code",
   "execution_count": 575,
   "metadata": {},
   "outputs": [],
   "source": [
    "# datasetTest.head(5)"
   ]
  },
  {
   "cell_type": "code",
   "execution_count": 576,
   "metadata": {
    "scrolled": true
   },
   "outputs": [],
   "source": [
    "# datasetTrain"
   ]
  },
  {
   "cell_type": "code",
   "execution_count": 577,
   "metadata": {},
   "outputs": [],
   "source": [
    "xTrain = datasetTrain[['open','high','low','close',\"k\",\"d\",\"atr\",\"macdmain\",\"macdsgnal\",\"bbup\",\"bbmid\",\"bblow\"]].as_matrix()\n",
    "yTrain = datasetTrain['closeTarget'].as_matrix()"
   ]
  },
  {
   "cell_type": "code",
   "execution_count": 578,
   "metadata": {},
   "outputs": [],
   "source": [
    "# xTrain\n"
   ]
  },
  {
   "cell_type": "code",
   "execution_count": 579,
   "metadata": {},
   "outputs": [],
   "source": [
    "# xTrain[:,3]"
   ]
  },
  {
   "cell_type": "code",
   "execution_count": 580,
   "metadata": {},
   "outputs": [],
   "source": [
    "# yTrain[0]"
   ]
  },
  {
   "cell_type": "code",
   "execution_count": 581,
   "metadata": {},
   "outputs": [],
   "source": [
    "# np.count_nonzero(xTrain, axis=0)"
   ]
  },
  {
   "cell_type": "code",
   "execution_count": 582,
   "metadata": {},
   "outputs": [
    {
     "name": "stdout",
     "output_type": "stream",
     "text": [
      "[[0.51502529 0.50192251 0.5305564  0.51458333 0.66101695 0.84903097\n",
      "  0.10278171 0.5041859  0.84903097 0.50698884 0.5237456  0.53235088]\n",
      " [0.51324011 0.50192251 0.53177258 0.51517857 0.88607595 0.90104971\n",
      "  0.09382367 0.50636443 0.90104971 0.50836477 0.52444051 0.53230553]\n",
      " [0.51770306 0.50428867 0.53602919 0.51785714 1.         0.75569106\n",
      "  0.10278171 0.50815437 0.75569106 0.50963026 0.52511964 0.53234223]] \n",
      " [0.51517857 0.51785714 0.51785714]\n"
     ]
    }
   ],
   "source": [
    "print(xTrain[0:3],'\\n',yTrain[0:3])"
   ]
  },
  {
   "cell_type": "code",
   "execution_count": 583,
   "metadata": {},
   "outputs": [],
   "source": [
    "xTest = datasetTest[['open','high','low','close',\"k\",\"d\",\"atr\",\"macdmain\",\"macdsgnal\",\"bbup\",\"bbmid\",\"bblow\"]].as_matrix()\n",
    "yTest = datasetTest['closeTarget'].as_matrix()"
   ]
  },
  {
   "cell_type": "code",
   "execution_count": 584,
   "metadata": {},
   "outputs": [],
   "source": [
    "# xTest[0]"
   ]
  },
  {
   "cell_type": "code",
   "execution_count": 585,
   "metadata": {},
   "outputs": [],
   "source": [
    "# yTest[0]"
   ]
  },
  {
   "cell_type": "code",
   "execution_count": 586,
   "metadata": {},
   "outputs": [],
   "source": [
    "# np.count_nonzero(xTest, axis=0)"
   ]
  },
  {
   "cell_type": "code",
   "execution_count": 587,
   "metadata": {},
   "outputs": [],
   "source": [
    "# print(xTest[0:3],'\\n',yTest[0:3])"
   ]
  },
  {
   "cell_type": "markdown",
   "metadata": {},
   "source": [
    "## Visualize starting price data"
   ]
  },
  {
   "cell_type": "code",
   "execution_count": 588,
   "metadata": {},
   "outputs": [],
   "source": [
    "# plt.figure(figsize=(25,5))\n",
    "# plt.plot(xTrain[:,3])\n",
    "# plt.title('Train (' +str(len(xTrain))+' data points)')\n",
    "# plt.show()\n",
    "# plt.figure(figsize=(10,3))\n",
    "# plt.plot(xTest[:,0])\n",
    "# plt.title('Test (' +str(len(xTest))+' data points)')\n",
    "# plt.show()"
   ]
  },
  {
   "cell_type": "code",
   "execution_count": 589,
   "metadata": {},
   "outputs": [],
   "source": [
    "\n",
    "\n",
    "# fig, ax = plt.subplots(1,1)\n",
    "\n",
    "# # Instead of set_figwidth(30)\n",
    "# fig.set_size_inches(30, 10, forward=True)\n",
    "# # quotes = np.genfromtxt(\"./out.csv\", skip_header=1, delimiter=',')\n",
    "# p1 = draw_rects(ax, xTest[:50], yloc=1)\n",
    "# # print(xTrain[:10])\n",
    "# p2 = draw_rects(ax, xTrain[5:50], yloc=4)\n",
    "# labels = [item.get_text() for item in ax.get_yticklabels()]\n",
    "# labels[2] = 'Real'\n",
    "# labels[8] = 'Predicted'\n",
    "# ax.set_yticklabels(labels)\n",
    "\n",
    "# plt.show()"
   ]
  },
  {
   "cell_type": "markdown",
   "metadata": {},
   "source": [
    "## Placeholders"
   ]
  },
  {
   "cell_type": "code",
   "execution_count": 590,
   "metadata": {},
   "outputs": [],
   "source": [
    "batchX_placeholder = tf.placeholder(dtype=tf.float32,shape=[None,truncated_backprop_length,num_features],name='data_ph')\n",
    "batchY_placeholder = tf.placeholder(dtype=tf.float32,shape=[None,truncated_backprop_length,num_classes],name='target_ph')"
   ]
  },
  {
   "cell_type": "markdown",
   "metadata": {},
   "source": [
    "## Weights and biases\n",
    "Because is a 3 layer net:\n",
    "1. Input\n",
    "2. Hidden Recurrent layer\n",
    "3. Output\n",
    "\n",
    "We need 2 pairs of W and b"
   ]
  },
  {
   "cell_type": "code",
   "execution_count": 591,
   "metadata": {},
   "outputs": [
    {
     "data": {
      "text/plain": [
       "<tf.Tensor 'b2:0' shape=() dtype=string>"
      ]
     },
     "execution_count": 591,
     "metadata": {},
     "output_type": "execute_result"
    }
   ],
   "source": [
    "W2 = tf.Variable(initial_value=np.random.rand(state_size,num_classes),dtype=tf.float32)\n",
    "tf.summary.histogram(\"W\", W2)\n",
    "b2 = tf.Variable(initial_value=np.random.rand(1,num_classes),dtype=tf.float32)\n",
    "tf.summary.histogram(\"b2\", b2)"
   ]
  },
  {
   "cell_type": "markdown",
   "metadata": {},
   "source": [
    "Unpack"
   ]
  },
  {
   "cell_type": "code",
   "execution_count": 592,
   "metadata": {},
   "outputs": [],
   "source": [
    "labels_series = tf.unstack(batchY_placeholder, axis=1)"
   ]
  },
  {
   "cell_type": "markdown",
   "metadata": {},
   "source": [
    "## Forward pass - Unroll the cell\n",
    "\n",
    "Input to recurrent"
   ]
  },
  {
   "cell_type": "code",
   "execution_count": 593,
   "metadata": {},
   "outputs": [
    {
     "data": {
      "text/plain": [
       "<tf.Tensor 'current_state:0' shape=() dtype=string>"
      ]
     },
     "execution_count": 593,
     "metadata": {},
     "output_type": "execute_result"
    }
   ],
   "source": [
    "\n",
    "cell = tf.contrib.rnn.BasicRNNCell(num_units=state_size)\n",
    "states_series, current_state = tf.nn.dynamic_rnn(cell=cell,inputs=batchX_placeholder,dtype=tf.float32)\n",
    "tf.summary.histogram(\"states_series\", states_series)\n",
    "tf.summary.histogram(\"current_state\", current_state)"
   ]
  },
  {
   "cell_type": "code",
   "execution_count": 594,
   "metadata": {},
   "outputs": [],
   "source": [
    "states_series = tf.transpose(states_series,[1,0,2])"
   ]
  },
  {
   "cell_type": "markdown",
   "metadata": {},
   "source": [
    "## Backward pass - Output"
   ]
  },
  {
   "cell_type": "code",
   "execution_count": 595,
   "metadata": {},
   "outputs": [],
   "source": [
    "last_state = tf.gather(params=states_series,indices=states_series.get_shape()[0]-1)\n",
    "last_label = tf.gather(params=labels_series,indices=len(labels_series)-1)"
   ]
  },
  {
   "cell_type": "markdown",
   "metadata": {},
   "source": [
    "## Weights and bias out"
   ]
  },
  {
   "cell_type": "code",
   "execution_count": 596,
   "metadata": {},
   "outputs": [
    {
     "data": {
      "text/plain": [
       "<tf.Tensor 'bias:0' shape=() dtype=string>"
      ]
     },
     "execution_count": 596,
     "metadata": {},
     "output_type": "execute_result"
    }
   ],
   "source": [
    "weight = tf.Variable(tf.truncated_normal([state_size,num_classes]))\n",
    "tf.summary.histogram(\"weight\", weight)\n",
    "bias = tf.Variable(tf.constant(0.1,shape=[num_classes]))\n",
    "tf.summary.histogram(\"bias\", bias)"
   ]
  },
  {
   "cell_type": "markdown",
   "metadata": {},
   "source": [
    "## Prediction, Loss & Optimizer"
   ]
  },
  {
   "cell_type": "code",
   "execution_count": 597,
   "metadata": {},
   "outputs": [
    {
     "data": {
      "text/plain": [
       "<tf.Tensor 'add:0' shape=(?, 1) dtype=float32>"
      ]
     },
     "execution_count": 597,
     "metadata": {},
     "output_type": "execute_result"
    }
   ],
   "source": [
    "prediction = tf.matmul(last_state,weight) + bias\n",
    "prediction"
   ]
  },
  {
   "cell_type": "code",
   "execution_count": 598,
   "metadata": {},
   "outputs": [
    {
     "name": "stderr",
     "output_type": "stream",
     "text": [
      "c:\\python35\\lib\\site-packages\\tensorflow\\python\\ops\\gradients_impl.py:100: UserWarning:\n",
      "\n",
      "Converting sparse IndexedSlices to a dense Tensor of unknown shape. This may consume a large amount of memory.\n",
      "\n"
     ]
    }
   ],
   "source": [
    "loss = tf.reduce_mean(tf.squared_difference(last_label,prediction))\n",
    "\n",
    "train_step = tf.train.AdamOptimizer(learning_rate=0.001).minimize(loss)"
   ]
  },
  {
   "cell_type": "code",
   "execution_count": 599,
   "metadata": {},
   "outputs": [
    {
     "name": "stdout",
     "output_type": "stream",
     "text": [
      "models\\model6120.ckpt\n"
     ]
    }
   ],
   "source": [
    "saver = tf.train.Saver() # Save and restore model variabe\n",
    "print(tf.train.latest_checkpoint(\"models\")) # checks the latest created model checkpoint  and returns the model path"
   ]
  },
  {
   "cell_type": "markdown",
   "metadata": {},
   "source": [
    "#  Train the model and save it"
   ]
  },
  {
   "cell_type": "code",
   "execution_count": 600,
   "metadata": {
    "scrolled": true
   },
   "outputs": [],
   "source": [
    "# loss_list = []\n",
    "# with tf.Session() as sess:\n",
    "#      train_writer = tf.summary.FileWriter('logs', sess.graph)\n",
    "#      tf.global_variables_initializer().run()\n",
    "#      counter = 0\n",
    "#      try:\n",
    "#          with open (\"Checkpointcounter.txt\",\"r\") as file:\n",
    "#              value = file.read()\n",
    "#      except FileNotFoundError:\n",
    "#          print(\"First Time Running Training!....\")\n",
    "#      if(tf.train.checkpoint_exists(\"models\\\\model\"+value+\".ckpt\")):\n",
    "#          saver.restore(sess, \"models\\\\model\"+value+\".ckpt\")\n",
    "#          print(\"models\\\\model\"+value+\".ckpt Session Loaded for Training\")\n",
    "#          counter = int(value)\n",
    "#      for epoch_idx in range(num_epochs):\n",
    "               \n",
    "#          print('Epoch %d' %epoch_idx)\n",
    "#          counter+= 1;\n",
    "#          for batch_idx in range(num_batches):\n",
    "#              start_idx = batch_idx * truncated_backprop_length\n",
    "#              end_idx = start_idx + truncated_backprop_length * batch_size\n",
    "           \n",
    "           \n",
    "#              batchX = xTrain[start_idx:end_idx,:].reshape(batch_size,truncated_backprop_length,num_features)\n",
    "#              batchY = yTrain[start_idx:end_idx].reshape(batch_size,truncated_backprop_length,1)\n",
    "               \n",
    "#              #print('IDXs',start_idx,end_idx)\n",
    "#              #print('X',batchX.shape,batchX)\n",
    "#              #print('Y',batchX.shape,batchY)\n",
    "           \n",
    "#              feed = {batchX_placeholder : batchX, batchY_placeholder : batchY}\n",
    "           \n",
    "#              #TRAIN!\n",
    "#              _loss,_train_step,_pred,_last_label,_prediction = sess.run(\n",
    "#                  fetches=[loss,train_step,prediction,last_label,prediction],\n",
    "#                  feed_dict = feed\n",
    "#              )\n",
    "           \n",
    "#              loss_list.append(_loss)\n",
    "           \n",
    "          \n",
    "           \n",
    "#              if(batch_idx % 50 == 0):\n",
    "#                  print('Step %d - Loss: %.6f' %(batch_idx,_loss))\n",
    "#  #             merge = tf.summary.merge_all()\n",
    "#  #             summary, batch_loss, new_state, _ = sess.run([merge,last_state,last_label,prediction],feed_dict=feed)\n",
    "#  #             train_writer.add_summary(summary, counter)\n",
    "               \n",
    "#      #TEST\n",
    "#          save_path = saver.save(sess, \"models\\\\model\"+str(counter)+\".ckpt\")\n",
    "#          with open (\"Checkpointcounter.txt\",\"w\") as file:  \n",
    "#              file.write(str(counter))\n",
    "#          print(\"Model saved in path: %s\" % save_path)\n",
    "    \n",
    "    \n",
    "         "
   ]
  },
  {
   "cell_type": "markdown",
   "metadata": {},
   "source": [
    "#  Test the prediction Here"
   ]
  },
  {
   "cell_type": "code",
   "execution_count": 660,
   "metadata": {},
   "outputs": [],
   "source": [
    "test_pred_list = []\n",
    "\n",
    "def testAndforecast(xTest1,yTest1):\n",
    "#     test_pred_list = 0\n",
    "    truncated_backprop_length = 3\n",
    "    with tf.Session() as sess:\n",
    "    #     train_writer = tf.summary.FileWriter('logs', sess.graph)\n",
    "        tf.global_variables_initializer().run()\n",
    "        counter = 0\n",
    "#         saver.restore(sess, \"models\\\\model2298.ckpt\")\n",
    "        try:\n",
    "            with open (\"Checkpointcounter.txt\",\"r\") as file:\n",
    "                value = file.read()\n",
    "        except FileNotFoundError:\n",
    "            print(\"First Time Running Training!....\")  \n",
    "        if(tf.train.checkpoint_exists(\"models\\\\model\"+value+\".ckpt\")):\n",
    "            saver.restore(sess, \"models\\\\model\"+value+\".ckpt\")\n",
    "            print(\"models\\\\model\"+value+\".ckpt Session Loaded for Testing\")\n",
    "        for test_idx in range(len(xTest1) - truncated_backprop_length):\n",
    "\n",
    "            testBatchX = xTest1[test_idx:test_idx+truncated_backprop_length,:].reshape((1,truncated_backprop_length,num_features))        \n",
    "            testBatchY = yTest1[test_idx:test_idx+truncated_backprop_length].reshape((1,truncated_backprop_length,1))\n",
    "\n",
    "\n",
    "            #_current_state = np.zeros((batch_size,state_size))\n",
    "            feed = {batchX_placeholder : testBatchX,\n",
    "                batchY_placeholder : testBatchY}\n",
    "\n",
    "            #Test_pred contains 'window_size' predictions, we want the last one\n",
    "            _last_state,_last_label,test_pred = sess.run([last_state,last_label,prediction],feed_dict=feed)\n",
    "            test_pred_list.append(test_pred[-1][-1]) #The last one"
   ]
  },
  {
   "cell_type": "markdown",
   "metadata": {},
   "source": [
    "# Run the following for Prediction or Testing purpose"
   ]
  },
  {
   "cell_type": "code",
   "execution_count": 642,
   "metadata": {},
   "outputs": [
    {
     "name": "stdout",
     "output_type": "stream",
     "text": [
      "INFO:tensorflow:Restoring parameters from models\\model2298.ckpt\n"
     ]
    }
   ],
   "source": [
    "test_pred_list=[]\n",
    "testAndforecast(xTest,yTest)"
   ]
  },
  {
   "cell_type": "markdown",
   "metadata": {},
   "source": [
    "# Arranging original and predicted color values"
   ]
  },
  {
   "cell_type": "code",
   "execution_count": 643,
   "metadata": {
    "scrolled": true
   },
   "outputs": [
    {
     "name": "stdout",
     "output_type": "stream",
     "text": [
      "51\n",
      "47\n"
     ]
    }
   ],
   "source": [
    "datasetTest['color_original'] = pd.Series(GetPredictedColor(datasetTest.closeTarget))#dataset_test.shiftedcolor# datasetTest.apply(determinecolor,column1='openshifted',column2='closeTarget', axis=1)\n",
    "\n",
    "datasetTest.loc[:,'predict_close'] = pd.Series(test_pred_list[:])\n",
    "datasetTest.loc[:,'color_predicted'] = pd.Series(GetPredictedColor(test_pred_list)[1:])\n",
    "datasetTest.color_predicted = datasetTest.color_predicted.fillna('w')\n",
    "#datasetTest.apply(determinecolor, column1='openshifted',column2='predict_close',axis=1)\n"
   ]
  },
  {
   "cell_type": "code",
   "execution_count": 644,
   "metadata": {},
   "outputs": [
    {
     "data": {
      "text/html": [
       "<div>\n",
       "<style scoped>\n",
       "    .dataframe tbody tr th:only-of-type {\n",
       "        vertical-align: middle;\n",
       "    }\n",
       "\n",
       "    .dataframe tbody tr th {\n",
       "        vertical-align: top;\n",
       "    }\n",
       "\n",
       "    .dataframe thead th {\n",
       "        text-align: right;\n",
       "    }\n",
       "</style>\n",
       "<table border=\"1\" class=\"dataframe\">\n",
       "  <thead>\n",
       "    <tr style=\"text-align: right;\">\n",
       "      <th></th>\n",
       "      <th>open</th>\n",
       "      <th>high</th>\n",
       "      <th>low</th>\n",
       "      <th>close</th>\n",
       "      <th>closeTarget</th>\n",
       "      <th>k</th>\n",
       "      <th>d</th>\n",
       "      <th>atr</th>\n",
       "      <th>macdmain</th>\n",
       "      <th>macdsgnal</th>\n",
       "      <th>bbup</th>\n",
       "      <th>bbmid</th>\n",
       "      <th>bblow</th>\n",
       "      <th>color_original</th>\n",
       "      <th>predict_close</th>\n",
       "      <th>color_predicted</th>\n",
       "    </tr>\n",
       "  </thead>\n",
       "  <tbody>\n",
       "    <tr>\n",
       "      <th>0</th>\n",
       "      <td>0.022472</td>\n",
       "      <td>0.321429</td>\n",
       "      <td>0.028571</td>\n",
       "      <td>0.370787</td>\n",
       "      <td>0.039326</td>\n",
       "      <td>0.394444</td>\n",
       "      <td>0.135894</td>\n",
       "      <td>0.638298</td>\n",
       "      <td>0.220484</td>\n",
       "      <td>0.135894</td>\n",
       "      <td>0.645998</td>\n",
       "      <td>0.456451</td>\n",
       "      <td>0.174702</td>\n",
       "      <td>r</td>\n",
       "      <td>0.126370</td>\n",
       "      <td>g</td>\n",
       "    </tr>\n",
       "    <tr>\n",
       "      <th>1</th>\n",
       "      <td>0.123596</td>\n",
       "      <td>0.053571</td>\n",
       "      <td>0.091429</td>\n",
       "      <td>0.039326</td>\n",
       "      <td>0.005618</td>\n",
       "      <td>0.033333</td>\n",
       "      <td>0.003385</td>\n",
       "      <td>0.548936</td>\n",
       "      <td>0.000000</td>\n",
       "      <td>0.003385</td>\n",
       "      <td>0.724737</td>\n",
       "      <td>0.517354</td>\n",
       "      <td>0.147918</td>\n",
       "      <td>g</td>\n",
       "      <td>0.251907</td>\n",
       "      <td>g</td>\n",
       "    </tr>\n",
       "    <tr>\n",
       "      <th>2</th>\n",
       "      <td>0.146067</td>\n",
       "      <td>0.113095</td>\n",
       "      <td>0.057143</td>\n",
       "      <td>0.005618</td>\n",
       "      <td>0.146067</td>\n",
       "      <td>0.000000</td>\n",
       "      <td>0.000000</td>\n",
       "      <td>0.638298</td>\n",
       "      <td>0.007640</td>\n",
       "      <td>0.000000</td>\n",
       "      <td>0.775600</td>\n",
       "      <td>0.618206</td>\n",
       "      <td>0.270844</td>\n",
       "      <td>r</td>\n",
       "      <td>0.297699</td>\n",
       "      <td>g</td>\n",
       "    </tr>\n",
       "    <tr>\n",
       "      <th>3</th>\n",
       "      <td>0.230337</td>\n",
       "      <td>0.202381</td>\n",
       "      <td>0.074286</td>\n",
       "      <td>0.146067</td>\n",
       "      <td>0.235955</td>\n",
       "      <td>0.000000</td>\n",
       "      <td>0.087215</td>\n",
       "      <td>0.536170</td>\n",
       "      <td>0.106609</td>\n",
       "      <td>0.087215</td>\n",
       "      <td>0.814985</td>\n",
       "      <td>0.728880</td>\n",
       "      <td>0.440311</td>\n",
       "      <td>g</td>\n",
       "      <td>0.466302</td>\n",
       "      <td>g</td>\n",
       "    </tr>\n",
       "    <tr>\n",
       "      <th>4</th>\n",
       "      <td>0.258427</td>\n",
       "      <td>0.196429</td>\n",
       "      <td>0.285714</td>\n",
       "      <td>0.235955</td>\n",
       "      <td>0.264045</td>\n",
       "      <td>0.023256</td>\n",
       "      <td>0.316095</td>\n",
       "      <td>0.770213</td>\n",
       "      <td>0.171310</td>\n",
       "      <td>0.316095</td>\n",
       "      <td>0.854347</td>\n",
       "      <td>0.821218</td>\n",
       "      <td>0.568022</td>\n",
       "      <td>g</td>\n",
       "      <td>0.495198</td>\n",
       "      <td>g</td>\n",
       "    </tr>\n",
       "  </tbody>\n",
       "</table>\n",
       "</div>"
      ],
      "text/plain": [
       "       open      high       low     close  closeTarget         k         d  \\\n",
       "0  0.022472  0.321429  0.028571  0.370787     0.039326  0.394444  0.135894   \n",
       "1  0.123596  0.053571  0.091429  0.039326     0.005618  0.033333  0.003385   \n",
       "2  0.146067  0.113095  0.057143  0.005618     0.146067  0.000000  0.000000   \n",
       "3  0.230337  0.202381  0.074286  0.146067     0.235955  0.000000  0.087215   \n",
       "4  0.258427  0.196429  0.285714  0.235955     0.264045  0.023256  0.316095   \n",
       "\n",
       "        atr  macdmain  macdsgnal      bbup     bbmid     bblow color_original  \\\n",
       "0  0.638298  0.220484   0.135894  0.645998  0.456451  0.174702              r   \n",
       "1  0.548936  0.000000   0.003385  0.724737  0.517354  0.147918              g   \n",
       "2  0.638298  0.007640   0.000000  0.775600  0.618206  0.270844              r   \n",
       "3  0.536170  0.106609   0.087215  0.814985  0.728880  0.440311              g   \n",
       "4  0.770213  0.171310   0.316095  0.854347  0.821218  0.568022              g   \n",
       "\n",
       "   predict_close color_predicted  \n",
       "0       0.126370               g  \n",
       "1       0.251907               g  \n",
       "2       0.297699               g  \n",
       "3       0.466302               g  \n",
       "4       0.495198               g  "
      ]
     },
     "metadata": {},
     "output_type": "display_data"
    }
   ],
   "source": [
    "display(datasetTest.head())"
   ]
  },
  {
   "cell_type": "code",
   "execution_count": 645,
   "metadata": {},
   "outputs": [
    {
     "data": {
      "text/plain": [
       "[0.12636977, 0.25190657, 0.29769915, 0.46630162, 0.49519843]"
      ]
     },
     "execution_count": 645,
     "metadata": {},
     "output_type": "execute_result"
    }
   ],
   "source": [
    "test_pred_list[:5]"
   ]
  },
  {
   "cell_type": "markdown",
   "metadata": {},
   "source": [
    "# Get the total count of the dataset"
   ]
  },
  {
   "cell_type": "code",
   "execution_count": 646,
   "metadata": {},
   "outputs": [
    {
     "data": {
      "text/plain": [
       "50"
      ]
     },
     "execution_count": 646,
     "metadata": {},
     "output_type": "execute_result"
    }
   ],
   "source": [
    "datasetTest.to_csv(\"datasetTest.csv\")\n",
    "datasetTest.open.count()\n"
   ]
  },
  {
   "cell_type": "markdown",
   "metadata": {},
   "source": [
    "# Get the total count of the matched values after prediction or testing"
   ]
  },
  {
   "cell_type": "code",
   "execution_count": 647,
   "metadata": {},
   "outputs": [
    {
     "data": {
      "text/plain": [
       "21"
      ]
     },
     "execution_count": 647,
     "metadata": {},
     "output_type": "execute_result"
    }
   ],
   "source": [
    "out=datasetTest[(datasetTest.color_original == datasetTest.color_predicted)]\n",
    "out.open.count()"
   ]
  },
  {
   "cell_type": "code",
   "execution_count": 648,
   "metadata": {},
   "outputs": [],
   "source": [
    "# # dataset_train = pd.read_csv('EURUSD_M1TechnicalIndicators.csv', usecols=['open', 'close'])\n",
    "# # dataset_test = pd.read_csv('Test_EURUSD_M1TechnicalIndicators.csv', usecols=['open', 'close'])\n",
    "\n",
    "# gt_train = (xTrain[0,:]- xTrain[3,:]) > 0\n",
    "# gt_test = (xTest[0,:] - xTest[3,:]) > 0\n",
    "# eq_train = (xTrain[0,:] - xTrain[3,:]) == 0\n",
    "# eq_test = (xTest[0,:] - xTest[3,:]) == 0\n",
    "\n",
    "# y_train = np.ones(len(gt_train))\n",
    "# y_test = np.ones(len(gt_test))\n",
    "\n",
    "# colors_train = np.array(gt_train, str)\n",
    "# colors_test = np.array(gt_test, str)\n",
    "# colors_train[gt_train] = 'g'\n",
    "# colors_train[~gt_train] = 'r'\n",
    "# colors_train[eq_train] = 'k'\n",
    "# colors_test[gt_test] = 'g'\n",
    "# colors_test[~gt_test] = 'r'\n",
    "# colors_test[eq_test] = 'k'\n",
    "\n",
    "# rx = 1\n",
    "# ry = 2\n",
    "# rect = [(-rx, -ry), (rx, -ry), (rx, ry), (-rx, ry)]\n",
    "\n",
    "# plt.figure(figsize=(25,10))\n",
    "# plt.scatter(np.arange(y_train.size), y_train, facecolor=colors_train, verts=rect, s=1000)\n",
    "# plt.scatter(np.arange(y_test.size), y_test+3, facecolor=colors_test, verts=rect, s=1000)\n",
    "# plt.ylim(0, 5)\n",
    "# plt.yticks([1, 4], ['Train', 'Test'])"
   ]
  },
  {
   "cell_type": "code",
   "execution_count": 649,
   "metadata": {},
   "outputs": [],
   "source": [
    "# yTest"
   ]
  },
  {
   "cell_type": "code",
   "execution_count": 650,
   "metadata": {},
   "outputs": [],
   "source": [
    "test_pred_list.insert(0,0)\n",
    "test_pred_list.insert(0,0)\n",
    "# test_pred_list.insert(0,0)\n"
   ]
  },
  {
   "cell_type": "code",
   "execution_count": 651,
   "metadata": {},
   "outputs": [],
   "source": [
    "# datasetTest.color_original"
   ]
  },
  {
   "cell_type": "markdown",
   "metadata": {},
   "source": [
    "# Plot the graph between Shifted closed values of the test and the predicted close values."
   ]
  },
  {
   "cell_type": "code",
   "execution_count": 652,
   "metadata": {},
   "outputs": [
    {
     "data": {
      "image/png": "[encoded data removed]",
      "text/plain": [
       "<Figure size 2160x720 with 1 Axes>"
      ]
     },
     "metadata": {},
     "output_type": "display_data"
    },
    {
     "data": {
      "image/png": "[encoded data removed]",
      "text/plain": [
       "<Figure size 1512x504 with 1 Axes>"
      ]
     },
     "metadata": {},
     "output_type": "display_data"
    }
   ],
   "source": [
    "fig, ax = plt.subplots(1,1)\n",
    "\n",
    "# Instead of set_figwidth(30)\n",
    "fig.set_size_inches(30, 10, forward=True)\n",
    "# quotes = np.genfromtxt(\"./out.csv\", skip_header=1, delimiter=',')\n",
    "p1 = draw_rects(ax, datasetTest.color_original.count(),colordraw=datasetTest.color_original, yloc=4)\n",
    "# print(xTrain[:10])\n",
    "p2 = draw_rects(ax, datasetTest.color_predicted.count(),colordraw=datasetTest.color_predicted, yloc=1)\n",
    "labels = [item.get_text() for item in ax.get_yticklabels()]\n",
    "labels[2] = 'Predicted'\n",
    "labels[8] = 'Real'\n",
    "ax.set_yticklabels(labels)\n",
    "plt.figure(figsize=(21,7))\n",
    "plt.plot(yTest,label='Price',color='blue',marker='^')\n",
    "plt.plot(test_pred_list,label='Predicted',color='red', marker='v')\n",
    "plt.title('Price vs Predicted')\n",
    "plt.legend(loc='upper left')\n",
    "plt.show()\n",
    "# PlotmeGraphwithBars(datasetTest,yTest,test_pred_list,\"Predicted\")"
   ]
  },
  {
   "cell_type": "code",
   "execution_count": 653,
   "metadata": {},
   "outputs": [
    {
     "data": {
      "image/png": "[encoded data removed]",
      "text/plain": [
       "<Figure size 432x288 with 1 Axes>"
      ]
     },
     "metadata": {},
     "output_type": "display_data"
    }
   ],
   "source": [
    "PlotmePercent(datasetTest.open.count()-out.open.count(),out.open.count())"
   ]
  },
  {
   "cell_type": "markdown",
   "metadata": {},
   "source": [
    "# Checking forecast"
   ]
  },
  {
   "cell_type": "code",
   "execution_count": 654,
   "metadata": {},
   "outputs": [],
   "source": [
    "xForecast = datasetforecast[['open','high','low','close',\"k\",\"d\",\"atr\",\"macdmain\",\"macdsgnal\",\"bbup\",\"bbmid\",\"bblow\"]].as_matrix()\n",
    "yForecast = datasetforecast['closeTarget'].as_matrix()"
   ]
  },
  {
   "cell_type": "markdown",
   "metadata": {},
   "source": [
    "# Forecast the values using the forcast values"
   ]
  },
  {
   "cell_type": "code",
   "execution_count": 655,
   "metadata": {},
   "outputs": [
    {
     "name": "stdout",
     "output_type": "stream",
     "text": [
      "INFO:tensorflow:Restoring parameters from models\\model2298.ckpt\n"
     ]
    }
   ],
   "source": [
    "test_pred_list = []\n",
    "testAndforecast(xForecast,yForecast)\n",
    "test_pred_list.insert(0,0)\n",
    "test_pred_list.insert(0,0)"
   ]
  },
  {
   "cell_type": "code",
   "execution_count": 656,
   "metadata": {},
   "outputs": [
    {
     "name": "stdout",
     "output_type": "stream",
     "text": [
      "49\n",
      "49\n"
     ]
    }
   ],
   "source": [
    "datasetforecast.loc[:,'forecast_close'] = pd.Series(test_pred_list[:])\n",
    "datasetforecast['closeshift'] = datasetforecast.close.shift(-1)\n",
    "datasetforecast['color_original'] = pd.Series(GetPredictedColor(datasetforecast.closeshift))#dataset_forecast.color.shift(-1)\n",
    "\n",
    "datasetforecast.loc[:,'color_forecasted'] = pd.Series(GetPredictedColor(test_pred_list))\n",
    "datasetforecast.color_forecasted = datasetforecast.color_forecasted.fillna('w')\n",
    "datasetforecast.color_original = datasetforecast.color_original.fillna('w')"
   ]
  },
  {
   "cell_type": "code",
   "execution_count": 657,
   "metadata": {},
   "outputs": [
    {
     "data": {
      "text/html": [
       "<div>\n",
       "<style scoped>\n",
       "    .dataframe tbody tr th:only-of-type {\n",
       "        vertical-align: middle;\n",
       "    }\n",
       "\n",
       "    .dataframe tbody tr th {\n",
       "        vertical-align: top;\n",
       "    }\n",
       "\n",
       "    .dataframe thead th {\n",
       "        text-align: right;\n",
       "    }\n",
       "</style>\n",
       "<table border=\"1\" class=\"dataframe\">\n",
       "  <thead>\n",
       "    <tr style=\"text-align: right;\">\n",
       "      <th></th>\n",
       "      <th>open</th>\n",
       "      <th>high</th>\n",
       "      <th>low</th>\n",
       "      <th>close</th>\n",
       "      <th>k</th>\n",
       "      <th>d</th>\n",
       "      <th>atr</th>\n",
       "      <th>macdmain</th>\n",
       "      <th>macdsgnal</th>\n",
       "      <th>bbup</th>\n",
       "      <th>bbmid</th>\n",
       "      <th>bblow</th>\n",
       "      <th>closeTarget</th>\n",
       "      <th>forecast_close</th>\n",
       "      <th>closeshift</th>\n",
       "      <th>color_original</th>\n",
       "      <th>color_forecasted</th>\n",
       "    </tr>\n",
       "  </thead>\n",
       "  <tbody>\n",
       "    <tr>\n",
       "      <th>45</th>\n",
       "      <td>0.346939</td>\n",
       "      <td>0.259259</td>\n",
       "      <td>0.368421</td>\n",
       "      <td>0.304348</td>\n",
       "      <td>0.0</td>\n",
       "      <td>0.000000</td>\n",
       "      <td>0.051799</td>\n",
       "      <td>0.357759</td>\n",
       "      <td>0.139288</td>\n",
       "      <td>0.051799</td>\n",
       "      <td>0.314782</td>\n",
       "      <td>0.584906</td>\n",
       "      <td>0.0</td>\n",
       "      <td>0.249830</td>\n",
       "      <td>0.217391</td>\n",
       "      <td>r</td>\n",
       "      <td>r</td>\n",
       "    </tr>\n",
       "    <tr>\n",
       "      <th>46</th>\n",
       "      <td>0.346939</td>\n",
       "      <td>0.259259</td>\n",
       "      <td>0.342105</td>\n",
       "      <td>0.217391</td>\n",
       "      <td>0.0</td>\n",
       "      <td>0.000000</td>\n",
       "      <td>0.000000</td>\n",
       "      <td>0.280172</td>\n",
       "      <td>0.077093</td>\n",
       "      <td>0.000000</td>\n",
       "      <td>0.321478</td>\n",
       "      <td>0.541779</td>\n",
       "      <td>0.0</td>\n",
       "      <td>0.190260</td>\n",
       "      <td>0.239130</td>\n",
       "      <td>g</td>\n",
       "      <td>r</td>\n",
       "    </tr>\n",
       "    <tr>\n",
       "      <th>47</th>\n",
       "      <td>0.265306</td>\n",
       "      <td>0.296296</td>\n",
       "      <td>0.342105</td>\n",
       "      <td>0.239130</td>\n",
       "      <td>0.0</td>\n",
       "      <td>0.055850</td>\n",
       "      <td>0.020555</td>\n",
       "      <td>0.288793</td>\n",
       "      <td>0.078283</td>\n",
       "      <td>0.020555</td>\n",
       "      <td>0.295735</td>\n",
       "      <td>0.493261</td>\n",
       "      <td>0.0</td>\n",
       "      <td>0.149721</td>\n",
       "      <td>0.260870</td>\n",
       "      <td>g</td>\n",
       "      <td>r</td>\n",
       "    </tr>\n",
       "    <tr>\n",
       "      <th>48</th>\n",
       "      <td>0.285714</td>\n",
       "      <td>0.222222</td>\n",
       "      <td>0.368421</td>\n",
       "      <td>0.260870</td>\n",
       "      <td>0.0</td>\n",
       "      <td>0.206972</td>\n",
       "      <td>0.096729</td>\n",
       "      <td>0.245690</td>\n",
       "      <td>0.113973</td>\n",
       "      <td>0.096729</td>\n",
       "      <td>0.257131</td>\n",
       "      <td>0.447439</td>\n",
       "      <td>0.0</td>\n",
       "      <td>0.222719</td>\n",
       "      <td>0.195652</td>\n",
       "      <td>r</td>\n",
       "      <td>g</td>\n",
       "    </tr>\n",
       "    <tr>\n",
       "      <th>49</th>\n",
       "      <td>0.306122</td>\n",
       "      <td>0.222222</td>\n",
       "      <td>0.315789</td>\n",
       "      <td>0.195652</td>\n",
       "      <td>0.0</td>\n",
       "      <td>0.234568</td>\n",
       "      <td>0.183060</td>\n",
       "      <td>0.202586</td>\n",
       "      <td>0.099318</td>\n",
       "      <td>0.183060</td>\n",
       "      <td>0.252112</td>\n",
       "      <td>0.407008</td>\n",
       "      <td>0.0</td>\n",
       "      <td>NaN</td>\n",
       "      <td>NaN</td>\n",
       "      <td>w</td>\n",
       "      <td>w</td>\n",
       "    </tr>\n",
       "  </tbody>\n",
       "</table>\n",
       "</div>"
      ],
      "text/plain": [
       "        open      high       low     close    k         d       atr  macdmain  \\\n",
       "45  0.346939  0.259259  0.368421  0.304348  0.0  0.000000  0.051799  0.357759   \n",
       "46  0.346939  0.259259  0.342105  0.217391  0.0  0.000000  0.000000  0.280172   \n",
       "47  0.265306  0.296296  0.342105  0.239130  0.0  0.055850  0.020555  0.288793   \n",
       "48  0.285714  0.222222  0.368421  0.260870  0.0  0.206972  0.096729  0.245690   \n",
       "49  0.306122  0.222222  0.315789  0.195652  0.0  0.234568  0.183060  0.202586   \n",
       "\n",
       "    macdsgnal      bbup     bbmid     bblow  closeTarget  forecast_close  \\\n",
       "45   0.139288  0.051799  0.314782  0.584906          0.0        0.249830   \n",
       "46   0.077093  0.000000  0.321478  0.541779          0.0        0.190260   \n",
       "47   0.078283  0.020555  0.295735  0.493261          0.0        0.149721   \n",
       "48   0.113973  0.096729  0.257131  0.447439          0.0        0.222719   \n",
       "49   0.099318  0.183060  0.252112  0.407008          0.0             NaN   \n",
       "\n",
       "    closeshift color_original color_forecasted  \n",
       "45    0.217391              r                r  \n",
       "46    0.239130              g                r  \n",
       "47    0.260870              g                r  \n",
       "48    0.195652              r                g  \n",
       "49         NaN              w                w  "
      ]
     },
     "execution_count": 657,
     "metadata": {},
     "output_type": "execute_result"
    }
   ],
   "source": [
    "datasetforecast.tail()"
   ]
  },
  {
   "cell_type": "markdown",
   "metadata": {},
   "source": [
    "# Plot the graph between Shifted closed values of the test and the Forecasted close values."
   ]
  },
  {
   "cell_type": "code",
   "execution_count": 658,
   "metadata": {},
   "outputs": [
    {
     "data": {
      "image/png": "[encoded data removed]",
      "text/plain": [
       "<Figure size 2160x720 with 1 Axes>"
      ]
     },
     "metadata": {},
     "output_type": "display_data"
    },
    {
     "data": {
      "image/png": "[encoded data removed]",
      "text/plain": [
       "<Figure size 1512x504 with 1 Axes>"
      ]
     },
     "metadata": {},
     "output_type": "display_data"
    }
   ],
   "source": [
    "fig, ax = plt.subplots(1,1)\n",
    "\n",
    "# Instead of set_figwidth(30)\n",
    "fig.set_size_inches(30, 10, forward=True)\n",
    "# quotes = np.genfromtxt(\"./out.csv\", skip_header=1, delimiter=',')\n",
    "p1 = draw_rects(ax, datasetforecast.color_original.count(),colordraw=datasetforecast.color_original, yloc=4)\n",
    "# print(xTrain[:10])\n",
    "p2 = draw_rects(ax, datasetforecast.color_forecasted.count(),colordraw=datasetforecast.color_forecasted, yloc=1)\n",
    "labels = [item.get_text() for item in ax.get_yticklabels()]\n",
    "labels[2] = 'Forecasted'\n",
    "labels[8] = 'Real'\n",
    "ax.set_yticklabels(labels)\n",
    "plt.figure(figsize=(21,7))\n",
    "plt.plot(datasetforecast.close.shift(-1),label='Price',color='blue',marker='^')\n",
    "plt.plot(test_pred_list,label='Forecast',color='red',marker='v')\n",
    "plt.title('Price vs Forecastd')\n",
    "plt.legend(loc='upper left')\n",
    "plt.show()"
   ]
  },
  {
   "cell_type": "code",
   "execution_count": 659,
   "metadata": {},
   "outputs": [
    {
     "data": {
      "text/html": [
       "<div>\n",
       "<style scoped>\n",
       "    .dataframe tbody tr th:only-of-type {\n",
       "        vertical-align: middle;\n",
       "    }\n",
       "\n",
       "    .dataframe tbody tr th {\n",
       "        vertical-align: top;\n",
       "    }\n",
       "\n",
       "    .dataframe thead th {\n",
       "        text-align: right;\n",
       "    }\n",
       "</style>\n",
       "<table border=\"1\" class=\"dataframe\">\n",
       "  <thead>\n",
       "    <tr style=\"text-align: right;\">\n",
       "      <th></th>\n",
       "      <th>open</th>\n",
       "      <th>high</th>\n",
       "      <th>low</th>\n",
       "      <th>close</th>\n",
       "      <th>k</th>\n",
       "      <th>d</th>\n",
       "      <th>atr</th>\n",
       "      <th>macdmain</th>\n",
       "      <th>macdsgnal</th>\n",
       "      <th>bbup</th>\n",
       "      <th>bbmid</th>\n",
       "      <th>bblow</th>\n",
       "      <th>closeTarget</th>\n",
       "      <th>forecast_close</th>\n",
       "      <th>closeshift</th>\n",
       "      <th>color_original</th>\n",
       "      <th>color_forecasted</th>\n",
       "    </tr>\n",
       "  </thead>\n",
       "  <tbody>\n",
       "    <tr>\n",
       "      <th>0</th>\n",
       "      <td>0.346939</td>\n",
       "      <td>0.277778</td>\n",
       "      <td>0.342105</td>\n",
       "      <td>0.239130</td>\n",
       "      <td>0.0</td>\n",
       "      <td>0.097737</td>\n",
       "      <td>0.095923</td>\n",
       "      <td>0.008621</td>\n",
       "      <td>0.289514</td>\n",
       "      <td>0.095923</td>\n",
       "      <td>0.000000</td>\n",
       "      <td>0.045822</td>\n",
       "      <td>0.0</td>\n",
       "      <td>0.000000</td>\n",
       "      <td>0.000000</td>\n",
       "      <td>r</td>\n",
       "      <td>k</td>\n",
       "    </tr>\n",
       "    <tr>\n",
       "      <th>1</th>\n",
       "      <td>0.000000</td>\n",
       "      <td>0.000000</td>\n",
       "      <td>0.000000</td>\n",
       "      <td>0.000000</td>\n",
       "      <td>0.0</td>\n",
       "      <td>0.000000</td>\n",
       "      <td>0.071942</td>\n",
       "      <td>0.004310</td>\n",
       "      <td>0.079558</td>\n",
       "      <td>0.071942</td>\n",
       "      <td>0.011642</td>\n",
       "      <td>0.008086</td>\n",
       "      <td>0.0</td>\n",
       "      <td>0.000000</td>\n",
       "      <td>0.021739</td>\n",
       "      <td>g</td>\n",
       "      <td>k</td>\n",
       "    </tr>\n",
       "    <tr>\n",
       "      <th>2</th>\n",
       "      <td>0.061224</td>\n",
       "      <td>0.018519</td>\n",
       "      <td>0.078947</td>\n",
       "      <td>0.021739</td>\n",
       "      <td>0.0</td>\n",
       "      <td>0.034495</td>\n",
       "      <td>0.048667</td>\n",
       "      <td>0.000000</td>\n",
       "      <td>0.000000</td>\n",
       "      <td>0.048667</td>\n",
       "      <td>0.020441</td>\n",
       "      <td>0.000000</td>\n",
       "      <td>0.0</td>\n",
       "      <td>-0.037858</td>\n",
       "      <td>0.804348</td>\n",
       "      <td>g</td>\n",
       "      <td>r</td>\n",
       "    </tr>\n",
       "    <tr>\n",
       "      <th>3</th>\n",
       "      <td>0.081633</td>\n",
       "      <td>0.740741</td>\n",
       "      <td>0.105263</td>\n",
       "      <td>0.804348</td>\n",
       "      <td>0.0</td>\n",
       "      <td>0.665193</td>\n",
       "      <td>0.257515</td>\n",
       "      <td>0.163793</td>\n",
       "      <td>0.582643</td>\n",
       "      <td>0.257515</td>\n",
       "      <td>0.199662</td>\n",
       "      <td>0.102426</td>\n",
       "      <td>0.0</td>\n",
       "      <td>0.213083</td>\n",
       "      <td>0.934783</td>\n",
       "      <td>g</td>\n",
       "      <td>g</td>\n",
       "    </tr>\n",
       "    <tr>\n",
       "      <th>4</th>\n",
       "      <td>0.795918</td>\n",
       "      <td>1.000000</td>\n",
       "      <td>0.289474</td>\n",
       "      <td>0.934783</td>\n",
       "      <td>0.0</td>\n",
       "      <td>1.000000</td>\n",
       "      <td>0.625557</td>\n",
       "      <td>0.288793</td>\n",
       "      <td>0.988672</td>\n",
       "      <td>0.625557</td>\n",
       "      <td>0.412328</td>\n",
       "      <td>0.210243</td>\n",
       "      <td>0.0</td>\n",
       "      <td>0.948781</td>\n",
       "      <td>0.195652</td>\n",
       "      <td>r</td>\n",
       "      <td>g</td>\n",
       "    </tr>\n",
       "  </tbody>\n",
       "</table>\n",
       "</div>"
      ],
      "text/plain": [
       "       open      high       low     close    k         d       atr  macdmain  \\\n",
       "0  0.346939  0.277778  0.342105  0.239130  0.0  0.097737  0.095923  0.008621   \n",
       "1  0.000000  0.000000  0.000000  0.000000  0.0  0.000000  0.071942  0.004310   \n",
       "2  0.061224  0.018519  0.078947  0.021739  0.0  0.034495  0.048667  0.000000   \n",
       "3  0.081633  0.740741  0.105263  0.804348  0.0  0.665193  0.257515  0.163793   \n",
       "4  0.795918  1.000000  0.289474  0.934783  0.0  1.000000  0.625557  0.288793   \n",
       "\n",
       "   macdsgnal      bbup     bbmid     bblow  closeTarget  forecast_close  \\\n",
       "0   0.289514  0.095923  0.000000  0.045822          0.0        0.000000   \n",
       "1   0.079558  0.071942  0.011642  0.008086          0.0        0.000000   \n",
       "2   0.000000  0.048667  0.020441  0.000000          0.0       -0.037858   \n",
       "3   0.582643  0.257515  0.199662  0.102426          0.0        0.213083   \n",
       "4   0.988672  0.625557  0.412328  0.210243          0.0        0.948781   \n",
       "\n",
       "   closeshift color_original color_forecasted  \n",
       "0    0.000000              r                k  \n",
       "1    0.021739              g                k  \n",
       "2    0.804348              g                r  \n",
       "3    0.934783              g                g  \n",
       "4    0.195652              r                g  "
      ]
     },
     "metadata": {},
     "output_type": "display_data"
    }
   ],
   "source": [
    "display(datasetforecast.head())"
   ]
  },
  {
   "cell_type": "markdown",
   "metadata": {},
   "source": [
    "# Plot the Box graph between Shifted closed values of the test and the predicted close values."
   ]
  },
  {
   "cell_type": "code",
   "execution_count": null,
   "metadata": {},
   "outputs": [],
   "source": []
  },
  {
   "cell_type": "code",
   "execution_count": 619,
   "metadata": {},
   "outputs": [],
   "source": [
    "datasetforecast.to_csv('forecasted.csv')"
   ]
  },
  {
   "cell_type": "code",
   "execution_count": 620,
   "metadata": {},
   "outputs": [
    {
     "data": {
      "text/plain": [
       "50"
      ]
     },
     "execution_count": 620,
     "metadata": {},
     "output_type": "execute_result"
    }
   ],
   "source": [
    "datasetforecast.open.count()"
   ]
  },
  {
   "cell_type": "code",
   "execution_count": 621,
   "metadata": {},
   "outputs": [
    {
     "data": {
      "text/plain": [
       "35"
      ]
     },
     "execution_count": 621,
     "metadata": {},
     "output_type": "execute_result"
    }
   ],
   "source": [
    "out=datasetforecast[(datasetforecast.color_original == datasetforecast.color_forecasted)]\n",
    "out.open.count()"
   ]
  },
  {
   "cell_type": "code",
   "execution_count": 622,
   "metadata": {},
   "outputs": [
    {
     "data": {
      "image/png": "[encoded data removed]",
      "text/plain": [
       "<Figure size 432x288 with 1 Axes>"
      ]
     },
     "metadata": {},
     "output_type": "display_data"
    }
   ],
   "source": [
    "PlotmePercent(datasetforecast.open.count()-out.open.count(),out.open.count())\n"
   ]
  },
  {
   "cell_type": "code",
   "execution_count": 623,
   "metadata": {},
   "outputs": [],
   "source": [
    "# fig, ax = plt.subplots(1,1)\n",
    "\n",
    "# # Instead of set_figwidth(30)\n",
    "# fig.set_size_inches(30, 10, forward=True)\n",
    "# # quotes = np.genfromtxt(\"./out.csv\", skip_header=1, delimiter=',')\n",
    "# p1 = draw_rects(ax, datasetforecast,colordraw=datasetforecast.color_original, yloc=4)\n",
    "# # print(xTrain[:10])\n",
    "# p2 = draw_rects(ax, datasetforecast,colordraw=datasetforecast.color_predicted, yloc=1)\n",
    "# labels = [item.get_text() for item in ax.get_yticklabels()]\n",
    "# labels[2] = 'Forecast'\n",
    "# labels[8] = 'Real'\n",
    "# ax.set_yticklabels(labels)\n",
    "\n",
    "# plt.show()"
   ]
  },
  {
   "cell_type": "code",
   "execution_count": 624,
   "metadata": {},
   "outputs": [],
   "source": [
    "# range(len(test_pred_list))"
   ]
  },
  {
   "cell_type": "code",
   "execution_count": null,
   "metadata": {},
   "outputs": [],
   "source": [
    "        "
   ]
  },
  {
   "cell_type": "code",
   "execution_count": 625,
   "metadata": {},
   "outputs": [],
   "source": [
    "# colorcandle"
   ]
  },
  {
   "cell_type": "code",
   "execution_count": 626,
   "metadata": {
    "scrolled": true
   },
   "outputs": [],
   "source": [
    "# list(yTest)"
   ]
  },
  {
   "cell_type": "code",
   "execution_count": 627,
   "metadata": {
    "scrolled": true
   },
   "outputs": [],
   "source": [
    "# list(test_pred_list)"
   ]
  },
  {
   "cell_type": "code",
   "execution_count": 628,
   "metadata": {},
   "outputs": [],
   "source": [
    "# trace = go.Candlestick(open=datasetTest.open[1:100],\n",
    "#                        high=datasetTest.high[1:100],\n",
    "#                        low=datasetTest.low[1:100],\n",
    "#                        close=list(yTest[1:100]))\n",
    "# layout = {'title':\"Tested Output\"}\n",
    "# data = [trace]\n",
    "# fig = dict(data=data, layout=layout)\n",
    "# py.iplot(fig, filename='simple_TestPredict')\n",
    "# trace = go.Candlestick(open=datasetTest.open[1:100],\n",
    "#                        high=datasetTest.high[1:100],\n",
    "#                        low=datasetTest.low[1:100],\n",
    "#                        close=test_pred_list[1:100])\n",
    "# layout = {'title':\"Predicted Output\"}\n",
    "# data = [trace]\n",
    "# fig = dict(data=data, layout=layout)\n",
    "# py.iplot(fig, filename='simple_TestPredict')"
   ]
  },
  {
   "cell_type": "code",
   "execution_count": null,
   "metadata": {},
   "outputs": [],
   "source": []
  },
  {
   "cell_type": "code",
   "execution_count": null,
   "metadata": {},
   "outputs": [],
   "source": []
  }
 ],
 "metadata": {
  "kernelspec": {
   "display_name": "Python 3",
   "language": "python",
   "name": "python3"
  },
  "language_info": {
   "codemirror_mode": {
    "name": "ipython",
    "version": 3
   },
   "file_extension": ".py",
   "mimetype": "text/x-python",
   "name": "python",
   "nbconvert_exporter": "python",
   "pygments_lexer": "ipython3",
   "version": "3.5.0"
  }
 },
 "nbformat": 4,
 "nbformat_minor": 2
}
